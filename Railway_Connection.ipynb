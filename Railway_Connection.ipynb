{
 "cells": [
  {
   "cell_type": "markdown",
   "metadata": {},
   "source": []
  },
  {
   "cell_type": "code",
   "execution_count": 5,
   "metadata": {},
   "outputs": [
    {
     "name": "stdout",
     "output_type": "stream",
     "text": [
      "          date                                           headline  \\\n",
      "0   2023-12-04  Bitcoin price surges above $42,000 as rate cut...   \n",
      "1   2023-12-05                       Bitcoin’s bounceback déjà vu   \n",
      "2   2023-12-05  Buying frenzy puts some Grayscale crypto funds...   \n",
      "3   2023-12-05     The jobs market is still tight Premium content   \n",
      "4   2023-12-07                               The return of crypto   \n",
      "..         ...                                                ...   \n",
      "100 2024-05-22           First UK crypto ETPs to launch on May 28   \n",
      "101 2024-05-23  SEC paves way for ethereum ETFs in boost for c...   \n",
      "102 2024-05-24      Cryptofinance: into the ether Premium content   \n",
      "103 2024-05-24  British-Chinese bitcoin money launderer jailed...   \n",
      "104 2024-05-30     European bitcoin ETPs suffer mounting outflows   \n",
      "\n",
      "                                           subheadline  \n",
      "0    Gold touches all-time high as speculation grow...  \n",
      "1    The buy-and-hold case for crypto remains large...  \n",
      "2    Grayscale Filecoin Trust hit high of more than...  \n",
      "3                         And bitcoin is booming again  \n",
      "4    Even after Binance and FTX, bitcoin hits $40,0...  \n",
      "..                                                 ...  \n",
      "100  Regulator’s ruling means WisdomTree, 21Shares ...  \n",
      "101  Approvals follow January debut of first US spo...  \n",
      "102  Plus, updates on US crypto regulations and Wor...  \n",
      "103  UK case centres on one of the biggest bitcoin ...  \n",
      "104  Rising client interest has not yet converted t...  \n",
      "\n",
      "[105 rows x 3 columns]\n"
     ]
    }
   ],
   "source": [
    "import requests\n",
    "import psycopg2\n",
    "from psycopg2 import sql\n",
    "import os\n",
    "from dotenv import load_dotenv\n",
    "import pandas as pd\n",
    "from Bitcoin_api import fetch_bitcoin_data\n",
    "from scrappy import get_bitcoin_news"
   ]
  },
  {
   "cell_type": "markdown",
   "metadata": {},
   "source": [
    "## Connecting to DataBase and Creating Tables"
   ]
  },
  {
   "cell_type": "code",
   "execution_count": 2,
   "metadata": {},
   "outputs": [
    {
     "name": "stderr",
     "output_type": "stream",
     "text": [
      "Python-dotenv could not parse statement starting at line 11\n"
     ]
    }
   ],
   "source": [
    "# make sure to load dotenv\n",
    "load_dotenv()\n",
    "\n",
    "# Database connection paramete(s\n",
    "Database_URL = os.getenv('DataBase_Url')\n",
    "\n",
    "#connect to database\n",
    "conn = psycopg2.connect(Database_URL)\n",
    "cur = conn.cursor()\n",
    "\n",
    "#create tables if they don't exist\n",
    "\n",
    "cur.execute('''\n",
    "CREATE TABLE IF NOT EXISTS Bitcoin_Prices(\n",
    "    Date DATE PRIMARY KEY,\n",
    "    Open FLOAT,\n",
    "    High FLOAT,\n",
    "    Low FLOAT,\n",
    "    Close FLOAT,\n",
    "    Volume FLOAT\n",
    "    \n",
    ")            \n",
    "''')\n",
    "\n",
    "cur.execute('''\n",
    "CREATE TABLE IF NOT EXISTS Bitcoin_News(\n",
    "    id SERIAL PRIMARY KEY,\n",
    "    date DATE,\n",
    "    headline TEXT,\n",
    "    subheadline TEXT\n",
    "    \n",
    ")            \n",
    "''')\n",
    "\n",
    "conn.commit()"
   ]
  },
  {
   "cell_type": "markdown",
   "metadata": {},
   "source": [
    "## Insertion of Bitcoin Prices to Table"
   ]
  },
  {
   "cell_type": "code",
   "execution_count": 3,
   "metadata": {},
   "outputs": [],
   "source": [
    "#function to insert Bitcoin_Prices\n",
    "def insert_bitcoin_data(conn, data):\n",
    "    try:\n",
    "        cursor = conn.cursor()\n",
    "        for index, row in data.iterrows():\n",
    "            cursor.execute('''\n",
    "                INSERT INTO Bitcoin_Prices(Date, Open, High, Low, Close, Volume)\n",
    "                Values(%s, %s, %s, %s, %s, %s)\n",
    "                ON CONFLICT (Date) DO NOTHING\n",
    "                ''',(index, row['1. Open'], row['2. High'], row['3. Low'], row['4. Close'], row['5. Volume']))\n",
    "        conn.commit()\n",
    "        cursor.close()\n",
    "        print(\"success\")\n",
    "    except Exception as e:\n",
    "        print(f'Error inserting Bitcoin data: {e}')\n",
    "        conn.rollback()"
   ]
  },
  {
   "cell_type": "markdown",
   "metadata": {},
   "source": [
    "## Insertion of  Bitcoin News to Table"
   ]
  },
  {
   "cell_type": "code",
   "execution_count": 6,
   "metadata": {},
   "outputs": [],
   "source": [
    "#function to insert Bitcoin_News\n",
    "def insert_bitcoin_news(conn, df):\n",
    "    try:\n",
    "        cursor = conn.cursor()\n",
    "        for index, row in df.iterrows():\n",
    "            cursor.execute('''\n",
    "                INSERT INTO Bitcoin_News (id, date , headline, subheadline)\n",
    "                Values(%s, %s, %s, %s)\n",
    "                ON CONFLICT (id) DO NOTHING\n",
    "                ''',(index,row['date'], row['headline'], row['subheadline']))\n",
    "        conn.commit()\n",
    "        cursor.close()\n",
    "    except Exception as e:\n",
    "        print(f'Error inserting Bitcoin data: {e}')\n",
    "        conn.rollback()"
   ]
  },
  {
   "cell_type": "markdown",
   "metadata": {},
   "source": [
    "## Fetching and Inserting Data"
   ]
  },
  {
   "cell_type": "code",
   "execution_count": 7,
   "metadata": {},
   "outputs": [],
   "source": [
    "#Main Function to orchestrate the data fetching and insertion\n",
    "def main():\n",
    "    # fetch Bitcoin Data\n",
    "    bitcoin_data = fetch_bitcoin_data(\"BTC\",\"USD\")\n",
    "    #Scrape Bitcoin News data\n",
    "    bitcoin_headlines_df = get_bitcoin_news(last_page=72)\n",
    "    #connect to postgresSQL database\n",
    "    conn = psycopg2.connect(Database_URL)\n",
    "\n",
    "    if conn:\n",
    "        #Insert data into database\n",
    "        insert_bitcoin_data(conn,bitcoin_data)\n",
    "        insert_bitcoin_news(conn,bitcoin_headlines_df)\n",
    "\n",
    "        #close the database connection\n",
    "        conn.close()\n",
    "    else:\n",
    "        print('Failed to connect to the database')\n",
    "\n",
    "if __name__== '__main__':\n",
    "    main()"
   ]
  },
  {
   "cell_type": "code",
   "execution_count": null,
   "metadata": {},
   "outputs": [],
   "source": []
  },
  {
   "cell_type": "markdown",
   "metadata": {},
   "source": [
    "new one"
   ]
  },
  {
   "cell_type": "markdown",
   "metadata": {},
   "source": [
    "# drop"
   ]
  },
  {
   "cell_type": "code",
   "execution_count": 8,
   "metadata": {},
   "outputs": [
    {
     "name": "stdout",
     "output_type": "stream",
     "text": [
      "Table bitcoin_news_update dropped.\n",
      "Table bitcoin_news_u dropped.\n"
     ]
    }
   ],
   "source": [
    "import os\n",
    "import psycopg2\n",
    "\n",
    "def drop_tables(table_names, conn):\n",
    "    \"\"\"\n",
    "    Drops the specified tables from the PostgreSQL database.\n",
    "\n",
    "    Args:\n",
    "    table_names (list of str): List of table names to be dropped.\n",
    "    conn: The psycopg2 connection object to the PostgreSQL database.\n",
    "    \"\"\"\n",
    "    # Create a cursor object\n",
    "    cur = conn.cursor()\n",
    "\n",
    "    # Iterate over the list of table names and drop each one\n",
    "    for table_name in table_names:\n",
    "        drop_table_query = f'DROP TABLE IF EXISTS {table_name} CASCADE'\n",
    "        cur.execute(drop_table_query)\n",
    "        print(f'Table {table_name} dropped.')\n",
    "\n",
    "    # Commit the changes and close the cursor\n",
    "    conn.commit()\n",
    "    cur.close()\n",
    "\n",
    "if __name__ == \"__main__\":\n",
    "    # List of table names to be dropped\n",
    "    table_names = [\n",
    "        'bitcoin_news_update',\n",
    "        'bitcoin_news_u',\n",
    "        \n",
    "    ]\n",
    "\n",
    "    # Connect to the PostgreSQL database using the DATABASE_URL environment variable\n",
    "    DATABASE_URL = os.getenv('DATABASE_URL')\n",
    "    conn = psycopg2.connect(DATABASE_URL)\n",
    "\n",
    "    try:\n",
    "        # Call the function to drop the tables\n",
    "        drop_tables(table_names, conn)\n",
    "    finally:\n",
    "        if conn:\n",
    "            conn.close()\n"
   ]
  },
  {
   "cell_type": "code",
   "execution_count": null,
   "metadata": {},
   "outputs": [],
   "source": []
  },
  {
   "cell_type": "code",
   "execution_count": null,
   "metadata": {},
   "outputs": [],
   "source": []
  },
  {
   "cell_type": "code",
   "execution_count": null,
   "metadata": {},
   "outputs": [],
   "source": []
  },
  {
   "cell_type": "code",
   "execution_count": null,
   "metadata": {},
   "outputs": [],
   "source": []
  },
  {
   "cell_type": "code",
   "execution_count": null,
   "metadata": {},
   "outputs": [],
   "source": []
  },
  {
   "cell_type": "markdown",
   "metadata": {},
   "source": [
    "### Trail\"\"\""
   ]
  },
  {
   "cell_type": "code",
   "execution_count": 39,
   "metadata": {},
   "outputs": [
    {
     "ename": "ValueError",
     "evalue": "API_KEY environment variable is not set.",
     "output_type": "error",
     "traceback": [
      "\u001b[1;31m---------------------------------------------------------------------------\u001b[0m",
      "\u001b[1;31mValueError\u001b[0m                                Traceback (most recent call last)",
      "Cell \u001b[1;32mIn[39], line 86\u001b[0m\n\u001b[0;32m     83\u001b[0m     conn\u001b[38;5;241m.\u001b[39mclose()\n\u001b[0;32m     85\u001b[0m \u001b[38;5;28;01mif\u001b[39;00m \u001b[38;5;18m__name__\u001b[39m \u001b[38;5;241m==\u001b[39m \u001b[38;5;124m\"\u001b[39m\u001b[38;5;124m__main__\u001b[39m\u001b[38;5;124m\"\u001b[39m:\n\u001b[1;32m---> 86\u001b[0m     \u001b[43mmain\u001b[49m\u001b[43m(\u001b[49m\u001b[43m)\u001b[49m\n",
      "Cell \u001b[1;32mIn[39], line 62\u001b[0m, in \u001b[0;36mmain\u001b[1;34m()\u001b[0m\n\u001b[0;32m     60\u001b[0m \u001b[38;5;66;03m# Ensure API_KEY is retrieved correctly\u001b[39;00m\n\u001b[0;32m     61\u001b[0m \u001b[38;5;28;01mif\u001b[39;00m \u001b[38;5;129;01mnot\u001b[39;00m API_KEY:\n\u001b[1;32m---> 62\u001b[0m     \u001b[38;5;28;01mraise\u001b[39;00m \u001b[38;5;167;01mValueError\u001b[39;00m(\u001b[38;5;124m\"\u001b[39m\u001b[38;5;124mAPI_KEY environment variable is not set.\u001b[39m\u001b[38;5;124m\"\u001b[39m)\n\u001b[0;32m     64\u001b[0m \u001b[38;5;66;03m# Fetch Bitcoin data using the imported function\u001b[39;00m\n\u001b[0;32m     65\u001b[0m df \u001b[38;5;241m=\u001b[39m fetch_bitcoin_data(API_KEY, \u001b[38;5;124m\"\u001b[39m\u001b[38;5;124mBTC\u001b[39m\u001b[38;5;124m\"\u001b[39m, \u001b[38;5;124m\"\u001b[39m\u001b[38;5;124mUSD\u001b[39m\u001b[38;5;124m\"\u001b[39m)\n",
      "\u001b[1;31mValueError\u001b[0m: API_KEY environment variable is not set."
     ]
    }
   ],
   "source": [
    "import os\n",
    "import psycopg2\n",
    "from dotenv import load_dotenv\n",
    "\n",
    "# Function to create the BTC_DATA_OK table if it doesn't exist\n",
    "def create_table(conn):\n",
    "    try:\n",
    "        cur = conn.cursor()\n",
    "        create_table_query = '''\n",
    "        CREATE TABLE IF NOT EXISTS BTC_DATA_OK (\n",
    "            Date DATE PRIMARY KEY,\n",
    "            Open FLOAT,\n",
    "            High FLOAT,\n",
    "            Low FLOAT,\n",
    "            Close FLOAT,\n",
    "            Volume FLOAT\n",
    "        )\n",
    "        '''\n",
    "        cur.execute(create_table_query)\n",
    "        conn.commit()\n",
    "        print(\"Table created successfully\")\n",
    "    except Exception as e:\n",
    "        print(f\"Error creating table: {e}\")\n",
    "    finally:\n",
    "        cur.close()\n",
    "\n",
    "# Function to insert data into the PostgreSQL database\n",
    "def insert_data_into_db(conn, df):\n",
    "    try:\n",
    "        cur = conn.cursor()\n",
    "\n",
    "        for index, row in df.iterrows():\n",
    "            insert_query = '''\n",
    "            INSERT INTO BTC_DATA_OK (Date, Open, High, Low, Close, Volume) \n",
    "            VALUES (%s, %s, %s, %s, %s, %s)\n",
    "            ON CONFLICT (Date) DO NOTHING\n",
    "            '''\n",
    "            values = (index, row[\"1. Open\"], row[\"2. High\"], row[\"3. Low\"], row[\"4. Close\"], row[\"5. Volume\"])\n",
    "            cur.execute(insert_query, values)\n",
    "        \n",
    "        conn.commit()\n",
    "        print(\"Data inserted successfully\")\n",
    "    except Exception as e:\n",
    "        print(f\"Error inserting data: {e}\")\n",
    "    finally:\n",
    "        cur.close()\n",
    "\n",
    "def main():\n",
    "    # Fetch the DATABASE_URL from environment variable\n",
    "    DATABASE_URL = os.getenv('DataBase_Url')\n",
    "    # Ensure DATABASE_URL is retrieved correctly\n",
    "    if not DATABASE_URL:\n",
    "        raise ValueError(\"DATABASE_URL environment variable is not set.\")\n",
    "\n",
    "    # Load environment variables from .env file\n",
    "    load_dotenv()\n",
    "    # Fetch the API key from environment variable\n",
    "    API_KEY = os.getenv('AlphaVantage_API_key')\n",
    "\n",
    "    # Ensure API_KEY is retrieved correctly\n",
    "    if not API_KEY:\n",
    "        raise ValueError(\"API_KEY environment variable is not set.\")\n",
    "\n",
    "    # Fetch Bitcoin data using the imported function\n",
    "    df = fetch_bitcoin_data(API_KEY, \"BTC\", \"USD\")\n",
    "\n",
    "    # Check if the DataFrame is valid\n",
    "    if df is None or df.empty:\n",
    "        raise ValueError(\"Data fetching returned None or an empty DataFrame. Please check the fetch_bitcoin_data function.\")\n",
    "\n",
    "    print(f\"Fetched DataFrame:\\n{df.head()}\\n[Total Rows: {df.shape[0]}]\")\n",
    "\n",
    "    # Connect to the PostgreSQL database\n",
    "    conn = psycopg2.connect(DATABASE_URL)\n",
    "\n",
    "    # Create the table\n",
    "    create_table(conn)\n",
    "\n",
    "    # Insert data into the database\n",
    "    insert_data_into_db(conn, df)\n",
    "\n",
    "    # Close the connection\n",
    "    conn.close()\n",
    "\n",
    "if __name__ == \"__main__\":\n",
    "    main()\n"
   ]
  },
  {
   "cell_type": "code",
   "execution_count": null,
   "metadata": {},
   "outputs": [],
   "source": []
  },
  {
   "cell_type": "code",
   "execution_count": null,
   "metadata": {},
   "outputs": [],
   "source": []
  },
  {
   "cell_type": "code",
   "execution_count": null,
   "metadata": {},
   "outputs": [],
   "source": []
  },
  {
   "cell_type": "code",
   "execution_count": null,
   "metadata": {},
   "outputs": [],
   "source": []
  },
  {
   "cell_type": "code",
   "execution_count": null,
   "metadata": {},
   "outputs": [],
   "source": []
  }
 ],
 "metadata": {
  "kernelspec": {
   "display_name": "Webscraping",
   "language": "python",
   "name": "python3"
  },
  "language_info": {
   "codemirror_mode": {
    "name": "ipython",
    "version": 3
   },
   "file_extension": ".py",
   "mimetype": "text/x-python",
   "name": "python",
   "nbconvert_exporter": "python",
   "pygments_lexer": "ipython3",
   "version": "3.10.14"
  }
 },
 "nbformat": 4,
 "nbformat_minor": 2
}
