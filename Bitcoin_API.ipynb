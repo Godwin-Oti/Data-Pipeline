{
 "cells": [
  {
   "cell_type": "markdown",
   "metadata": {},
   "source": [
    "## API Request for Bitcoin Price in USD"
   ]
  },
  {
   "cell_type": "code",
   "execution_count": 1,
   "metadata": {},
   "outputs": [
    {
     "name": "stdout",
     "output_type": "stream",
     "text": [
      "                Open      High       Low     Close        Volume\n",
      "Date                                                            \n",
      "2024-07-08  55852.61  56023.92  55518.27  55790.31    380.677086\n",
      "2024-07-07  58240.36  58448.89  55717.23  55854.09   5320.916454\n",
      "2024-07-06  56634.53  58481.97  56020.32  58244.75   6449.325013\n",
      "2024-07-05  57036.45  57515.60  53499.90  56639.43  28052.415017\n",
      "2024-07-04  60145.01  60429.27  56709.73  57042.14  17969.356924\n",
      "...              ...       ...       ...       ...           ...\n",
      "2024-01-15  41698.13  43331.91  41680.00  42490.16  10869.458306\n",
      "2024-01-14  42839.32  43064.13  41680.73  41697.33   7834.261554\n",
      "2024-01-13  42775.10  43250.00  42427.00  42839.33  10998.764043\n",
      "2024-01-12  46344.96  46522.20  41444.97  42773.03  46862.433472\n",
      "2024-01-11  46678.54  49102.29  45555.55  46342.66  38150.894788\n",
      "\n",
      "[180 rows x 5 columns]\n"
     ]
    }
   ],
   "source": [
    "import os\n",
    "import pandas as pd\n",
    "import requests\n",
    "from dotenv import load_dotenv\n",
    "from datetime import datetime, timedelta\n",
    "\n",
    "def fetch_bitcoin_data(api_key, symbol, market):\n",
    "    # Construct the URL for the Alpha Vantage API call\n",
    "    url = f'https://www.alphavantage.co/query?function=DIGITAL_CURRENCY_DAILY&symbol={symbol}&market={market}&apikey={api_key}'\n",
    "\n",
    "    # Make the API request and get the JSON response\n",
    "    response = requests.get(url).json()\n",
    "\n",
    "    # Extract the daily time series data from the JSON response\n",
    "    time_series_key = 'Time Series (Digital Currency Daily)'\n",
    "    time_series_data = response[time_series_key]\n",
    "\n",
    "    # Convert the nested dictionary to a DataFrame\n",
    "    bitcoin_api_data = pd.DataFrame.from_dict(time_series_data, orient='index')\n",
    "\n",
    "    # Convert the index to datetime\n",
    "    bitcoin_api_data.index = pd.to_datetime(bitcoin_api_data.index)\n",
    "\n",
    "    # Rename the index to 'Date'\n",
    "    bitcoin_api_data.index.name = 'Date'\n",
    "    \n",
    "    # Rename columns for easier access\n",
    "    bitcoin_api_data.columns = ['Open', 'High', 'Low', 'Close', 'Volume']\n",
    "\n",
    "    # Convert columns to numeric values\n",
    "    bitcoin_api_data = bitcoin_api_data.apply(pd.to_numeric)\n",
    "\n",
    "    # Filter the DataFrame to include only the last 6 months of data\n",
    "    six_months_ago = datetime.now() - timedelta(days=6*30)  # approximate 6 months\n",
    "    bitcoin_api_data = bitcoin_api_data[bitcoin_api_data.index >= six_months_ago]\n",
    "\n",
    "    # Save the DataFrame to a CSV file\n",
    "    #csv_file = f'{symbol.lower()}_{market.lower()}_last_6_months_daily.csv'\n",
    "    #bitcoin_api_data.to_csv(csv_file)\n",
    "\n",
    "    # Display the DataFrame\n",
    "    print(bitcoin_api_data)\n",
    "    #print(f\"Data successfully saved to {csv_file}\")\n",
    "\n",
    "# Load environment variables from .env file\n",
    "load_dotenv()\n",
    "\n",
    "# Get the API key from the environment variable\n",
    "api_key = os.getenv('AlphaVantage_API_key')\n",
    "\n",
    "# Fetch and process the cryptocurrency data\n",
    "fetch_bitcoin_data(api_key,\"BTC\",\"USD\")\n",
    "\n",
    "\n"
   ]
  },
  {
   "cell_type": "code",
   "execution_count": 2,
   "metadata": {},
   "outputs": [
    {
     "name": "stdout",
     "output_type": "stream",
     "text": [
      "                Open      High       Low     Close        Volume\n",
      "Date                                                            \n",
      "2024-07-08  55852.61  56023.92  55518.27  55790.31    380.677086\n",
      "2024-07-07  58240.36  58448.89  55717.23  55854.09   5320.916454\n",
      "2024-07-06  56634.53  58481.97  56020.32  58244.75   6449.325013\n",
      "2024-07-05  57036.45  57515.60  53499.90  56639.43  28052.415017\n",
      "2024-07-04  60145.01  60429.27  56709.73  57042.14  17969.356924\n",
      "...              ...       ...       ...       ...           ...\n",
      "2024-01-15  41698.13  43331.91  41680.00  42490.16  10869.458306\n",
      "2024-01-14  42839.32  43064.13  41680.73  41697.33   7834.261554\n",
      "2024-01-13  42775.10  43250.00  42427.00  42839.33  10998.764043\n",
      "2024-01-12  46344.96  46522.20  41444.97  42773.03  46862.433472\n",
      "2024-01-11  46678.54  49102.29  45555.55  46342.66  38150.894788\n",
      "\n",
      "[180 rows x 5 columns]\n"
     ]
    }
   ],
   "source": [
    "fetch_bitcoin_data(api_key,\"BTC\",\"USD\")"
   ]
  },
  {
   "cell_type": "markdown",
   "metadata": {},
   "source": [
    "## API Request for Ethereum Price in USD"
   ]
  },
  {
   "cell_type": "code",
   "execution_count": 3,
   "metadata": {},
   "outputs": [
    {
     "name": "stdout",
     "output_type": "stream",
     "text": [
      "               Open     High      Low    Close         Volume\n",
      "Date                                                         \n",
      "2024-07-08  2930.78  2951.63  2919.23  2932.93    3483.800293\n",
      "2024-07-07  3067.38  3073.49  2921.13  2930.78   43012.583386\n",
      "2024-07-06  2981.74  3082.05  2955.67  3067.39   53153.519028\n",
      "2024-07-05  3059.08  3108.70  2809.41  2981.74  246354.987583\n",
      "2024-07-04  3291.88  3309.58  3050.00  3058.89  128764.427896\n",
      "...             ...      ...      ...      ...            ...\n",
      "2024-01-15  2470.65  2551.77  2468.60  2509.94   72919.161601\n",
      "2024-01-14  2578.13  2578.96  2467.97  2470.66  103969.502839\n",
      "2024-01-13  2522.02  2589.97  2496.41  2578.12  121668.190071\n",
      "2024-01-12  2618.37  2717.89  2455.00  2522.03  254977.635493\n",
      "2024-01-11  2584.85  2691.07  2567.08  2618.31  237306.471825\n",
      "\n",
      "[180 rows x 5 columns]\n"
     ]
    }
   ],
   "source": [
    "import os\n",
    "import pandas as pd\n",
    "import requests\n",
    "from dotenv import load_dotenv\n",
    "from datetime import datetime, timedelta\n",
    "\n",
    "def fetch_ethereum_data(api_key, symbol, market):\n",
    "    # Construct the URL for the Alpha Vantage API call\n",
    "    url = f'https://www.alphavantage.co/query?function=DIGITAL_CURRENCY_DAILY&symbol={symbol}&market={market}&apikey={api_key}'\n",
    "\n",
    "    # Make the API request and get the JSON response\n",
    "    response = requests.get(url).json()\n",
    "\n",
    "    # Extract the daily time series data from the JSON response\n",
    "    time_series_key = 'Time Series (Digital Currency Daily)'\n",
    "    time_series_data = response[time_series_key]\n",
    "\n",
    "    # Convert the nested dictionary to a DataFrame\n",
    "    ethereum_api_data = pd.DataFrame.from_dict(time_series_data, orient='index')\n",
    "\n",
    "    # Convert the index to datetime\n",
    "    ethereum_api_data.index = pd.to_datetime(ethereum_api_data.index)\n",
    "\n",
    "    # Rename the index to 'Date'\n",
    "    ethereum_api_data.index.name = 'Date'\n",
    "    \n",
    "    # Rename columns for easier access\n",
    "    ethereum_api_data.columns = ['Open', 'High', 'Low', 'Close', 'Volume']\n",
    "\n",
    "    # Convert columns to numeric values\n",
    "    ethereum_api_data = ethereum_api_data.apply(pd.to_numeric)\n",
    "\n",
    "    # Filter the DataFrame to include only the last 6 months of data\n",
    "    six_months_ago = datetime.now() - timedelta(days=6*30)  # approximate 6 months\n",
    "    ethereum_api_data = ethereum_api_data[ethereum_api_data.index >= six_months_ago]\n",
    "\n",
    "    # Save the DataFrame to a CSV file\n",
    "    #csv_file = f'{symbol.lower()}_{market.lower()}_last_6_months_daily.csv'\n",
    "    #ethereum_api_data.to_csv(csv_file)\n",
    "\n",
    "    # Display the DataFrame\n",
    "    print(ethereum_api_data)\n",
    "    #print(f\"Data successfully saved to {csv_file}\")\n",
    "\n",
    "# Load environment variables from .env file\n",
    "load_dotenv()\n",
    "\n",
    "# Get the API key from the environment variable\n",
    "api_key = os.getenv('AlphaVantage_API_key')\n",
    "\n",
    "# Fetch and process the cryptocurrency data\n",
    "fetch_ethereum_data(api_key,\"ETH\",\"USD\")\n"
   ]
  },
  {
   "cell_type": "code",
   "execution_count": null,
   "metadata": {},
   "outputs": [],
   "source": []
  }
 ],
 "metadata": {
  "kernelspec": {
   "display_name": "base",
   "language": "python",
   "name": "python3"
  },
  "language_info": {
   "codemirror_mode": {
    "name": "ipython",
    "version": 3
   },
   "file_extension": ".py",
   "mimetype": "text/x-python",
   "name": "python",
   "nbconvert_exporter": "python",
   "pygments_lexer": "ipython3",
   "version": "3.11.7"
  }
 },
 "nbformat": 4,
 "nbformat_minor": 2
}
