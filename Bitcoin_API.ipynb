{
 "cells": [
  {
   "cell_type": "code",
   "execution_count": 2,
   "metadata": {},
   "outputs": [],
   "source": [
    "import pandas as pd\n",
    "import requests\n",
    "from dotenv import load_dotenv\n",
    "import os"
   ]
  },
  {
   "cell_type": "markdown",
   "metadata": {},
   "source": [
    "## API Request for Tesla Stock"
   ]
  },
  {
   "cell_type": "code",
   "execution_count": 3,
   "metadata": {},
   "outputs": [
    {
     "name": "stdout",
     "output_type": "stream",
     "text": [
      "{'close': 176.19, 'high': 178.14, 'low': 173.96, 'open': 174.16, 'priceDate': '2024-05-29', 'symbol': 'TSLA', 'volume': 9248007, 'id': 'HISTORICAL_PRICES', 'key': 'TSLA', 'subkey': '', 'date': '2024-05-29', 'updated': 1717057215198.4763, 'changeOverTime': -0.003168316831683181, 'marketChangeOverTime': -0.003168316831683181, 'uOpen': 174.16, 'uClose': 176.19, 'uHigh': 178.14, 'uLow': 173.96, 'uVolume': 9248007, 'fOpen': 174.16, 'fClose': 176.19, 'fHigh': 178.14, 'fLow': 173.96, 'fVolume': 9248007, 'label': 'May 29, 24', 'change': -0.5600000000000023, 'changePercent': -0.0032}\n"
     ]
    },
    {
     "data": {
      "text/plain": [
       "{'close': 176.19,\n",
       " 'high': 178.14,\n",
       " 'low': 173.96,\n",
       " 'open': 174.16,\n",
       " 'priceDate': '2024-05-29',\n",
       " 'symbol': 'TSLA',\n",
       " 'volume': 9248007,\n",
       " 'id': 'HISTORICAL_PRICES',\n",
       " 'key': 'TSLA',\n",
       " 'subkey': '',\n",
       " 'date': '2024-05-29',\n",
       " 'updated': 1717057215198.4763,\n",
       " 'changeOverTime': -0.003168316831683181,\n",
       " 'marketChangeOverTime': -0.003168316831683181,\n",
       " 'uOpen': 174.16,\n",
       " 'uClose': 176.19,\n",
       " 'uHigh': 178.14,\n",
       " 'uLow': 173.96,\n",
       " 'uVolume': 9248007,\n",
       " 'fOpen': 174.16,\n",
       " 'fClose': 176.19,\n",
       " 'fHigh': 178.14,\n",
       " 'fLow': 173.96,\n",
       " 'fVolume': 9248007,\n",
       " 'label': 'May 29, 24',\n",
       " 'change': -0.5600000000000023,\n",
       " 'changePercent': -0.0032}"
      ]
     },
     "execution_count": 3,
     "metadata": {},
     "output_type": "execute_result"
    }
   ],
   "source": [
    "import urllib3\n",
    "import json\n",
    "def get_data():\n",
    "    http = urllib3.PoolManager()\n",
    "    url = \"https://cloud.iexapis.com/stable/stock/tsla/previous?token=pk_b5b064b8931e4e5988929fe612cc1e84\"\n",
    "    resp = http.request(\"GET\", url)\n",
    "    values = json.loads(resp.data)\n",
    "    print(values)\n",
    "    return values\n",
    "get_data()"
   ]
  },
  {
   "cell_type": "markdown",
   "metadata": {},
   "source": [
    "## API Request for Bitcoin Price in USD"
   ]
  },
  {
   "cell_type": "code",
   "execution_count": 9,
   "metadata": {},
   "outputs": [
    {
     "name": "stdout",
     "output_type": "stream",
     "text": [
      "                Open      High       Low     Close        Volume\n",
      "Date                                                            \n",
      "2024-05-30  67569.44  67772.09  67546.94  67631.76    243.239465\n",
      "2024-05-29  68321.99  68864.11  67081.66  67569.45   8970.020591\n",
      "2024-05-28  69366.31  69533.96  67194.59  68321.98  11975.930863\n",
      "2024-05-27  68470.80  70613.39  68210.12  69368.72   5384.622781\n",
      "2024-05-26  69289.69  69522.00  68097.38  68473.72   2037.673291\n",
      "...              ...       ...       ...       ...           ...\n",
      "2023-12-07  43766.41  44057.23  42846.53  43280.95  13055.366911\n",
      "2023-12-06  44086.33  44290.37  43369.00  43764.05  15977.559383\n",
      "2023-12-05  41985.53  45000.00  41384.03  44084.39  24018.760355\n",
      "2023-12-04  39984.81  42410.46  39983.60  41987.24  21993.059956\n",
      "2023-12-03  39467.42  40221.22  39293.02  39984.81   7153.156638\n",
      "\n",
      "[180 rows x 5 columns]\n"
     ]
    }
   ],
   "source": [
    "import os\n",
    "import pandas as pd\n",
    "import requests\n",
    "from dotenv import load_dotenv\n",
    "from datetime import datetime, timedelta\n",
    "\n",
    "def fetch_bitcoin_data(api_key, symbol, market):\n",
    "    # Construct the URL for the Alpha Vantage API call\n",
    "    url = f'https://www.alphavantage.co/query?function=DIGITAL_CURRENCY_DAILY&symbol={symbol}&market={market}&apikey={api_key}'\n",
    "\n",
    "    # Make the API request and get the JSON response\n",
    "    response = requests.get(url).json()\n",
    "\n",
    "    # Extract the daily time series data from the JSON response\n",
    "    time_series_key = 'Time Series (Digital Currency Daily)'\n",
    "    time_series_data = response[time_series_key]\n",
    "\n",
    "    # Convert the nested dictionary to a DataFrame\n",
    "    bitcoin_api_data = pd.DataFrame.from_dict(time_series_data, orient='index')\n",
    "\n",
    "    # Convert the index to datetime\n",
    "    bitcoin_api_data.index = pd.to_datetime(bitcoin_api_data.index)\n",
    "\n",
    "    # Rename the index to 'Date'\n",
    "    bitcoin_api_data.index.name = 'Date'\n",
    "    \n",
    "    # Rename columns for easier access\n",
    "    bitcoin_api_data.columns = ['Open', 'High', 'Low', 'Close', 'Volume']\n",
    "\n",
    "    # Convert columns to numeric values\n",
    "    bitcoin_api_data = bitcoin_api_data.apply(pd.to_numeric)\n",
    "\n",
    "    # Filter the DataFrame to include only the last 6 months of data\n",
    "    six_months_ago = datetime.now() - timedelta(days=6*30)  # approximate 6 months\n",
    "    bitcoin_api_data = bitcoin_api_data[bitcoin_api_data.index >= six_months_ago]\n",
    "\n",
    "    # Save the DataFrame to a CSV file\n",
    "    #csv_file = f'{symbol.lower()}_{market.lower()}_last_6_months_daily.csv'\n",
    "    #bitcoin_api_data.to_csv(csv_file)\n",
    "\n",
    "    # Display the DataFrame\n",
    "    print(bitcoin_api_data)\n",
    "    #print(f\"Data successfully saved to {csv_file}\")\n",
    "\n",
    "# Load environment variables from .env file\n",
    "load_dotenv()\n",
    "\n",
    "# Get the API key from the environment variable\n",
    "api_key = os.getenv('AlphaVantage_API_key')\n",
    "\n",
    "# Fetch and process the cryptocurrency data\n",
    "fetch_bitcoin_data(api_key,\"BTC\",\"USD\")\n",
    "\n",
    "\n"
   ]
  },
  {
   "cell_type": "code",
   "execution_count": 10,
   "metadata": {},
   "outputs": [
    {
     "name": "stdout",
     "output_type": "stream",
     "text": [
      "                Open      High       Low     Close        Volume\n",
      "Date                                                            \n",
      "2024-05-30  67569.44  67772.09  67546.94  67631.76    243.239465\n",
      "2024-05-29  68321.99  68864.11  67081.66  67569.45   8970.020591\n",
      "2024-05-28  69366.31  69533.96  67194.59  68321.98  11975.930863\n",
      "2024-05-27  68470.80  70613.39  68210.12  69368.72   5384.622781\n",
      "2024-05-26  69289.69  69522.00  68097.38  68473.72   2037.673291\n",
      "...              ...       ...       ...       ...           ...\n",
      "2023-12-07  43766.41  44057.23  42846.53  43280.95  13055.366911\n",
      "2023-12-06  44086.33  44290.37  43369.00  43764.05  15977.559383\n",
      "2023-12-05  41985.53  45000.00  41384.03  44084.39  24018.760355\n",
      "2023-12-04  39984.81  42410.46  39983.60  41987.24  21993.059956\n",
      "2023-12-03  39467.42  40221.22  39293.02  39984.81   7153.156638\n",
      "\n",
      "[180 rows x 5 columns]\n"
     ]
    }
   ],
   "source": [
    "fetch_bitcoin_data(api_key,\"BTC\",\"USD\")"
   ]
  },
  {
   "cell_type": "markdown",
   "metadata": {},
   "source": [
    "## API Request for Ethereum Price in USD"
   ]
  },
  {
   "cell_type": "code",
   "execution_count": 6,
   "metadata": {},
   "outputs": [
    {
     "name": "stdout",
     "output_type": "stream",
     "text": [
      "               Open     High      Low    Close         Volume\n",
      "Date                                                         \n",
      "2024-05-30  3762.07  3777.44  3761.40  3763.39    2551.852241\n",
      "2024-05-29  3840.18  3884.24  3740.75  3762.11  108846.329407\n",
      "2024-05-28  3890.72  3926.60  3769.47  3839.98  100613.047209\n",
      "2024-05-27  3823.55  3973.90  3821.01  3890.72   71151.446195\n",
      "2024-05-26  3749.23  3882.82  3731.03  3823.83   57883.658122\n",
      "...             ...      ...      ...      ...            ...\n",
      "2023-12-07  2233.08  2384.00  2222.58  2356.57  159654.716814\n",
      "2023-12-06  2293.96  2312.75  2219.61  2232.80  134193.657343\n",
      "2023-12-05  2243.25  2309.82  2187.97  2293.97  167077.772502\n",
      "2023-12-04  2194.12  2274.95  2192.41  2243.29  156712.866757\n",
      "2023-12-03  2165.85  2217.78  2150.30  2194.13   78192.256848\n",
      "\n",
      "[180 rows x 5 columns]\n"
     ]
    }
   ],
   "source": [
    "import os\n",
    "import pandas as pd\n",
    "import requests\n",
    "from dotenv import load_dotenv\n",
    "from datetime import datetime, timedelta\n",
    "\n",
    "def fetch_ethereum_data(api_key, symbol, market):\n",
    "    # Construct the URL for the Alpha Vantage API call\n",
    "    url = f'https://www.alphavantage.co/query?function=DIGITAL_CURRENCY_DAILY&symbol={symbol}&market={market}&apikey={api_key}'\n",
    "\n",
    "    # Make the API request and get the JSON response\n",
    "    response = requests.get(url).json()\n",
    "\n",
    "    # Extract the daily time series data from the JSON response\n",
    "    time_series_key = 'Time Series (Digital Currency Daily)'\n",
    "    time_series_data = response[time_series_key]\n",
    "\n",
    "    # Convert the nested dictionary to a DataFrame\n",
    "    ethereum_api_data = pd.DataFrame.from_dict(time_series_data, orient='index')\n",
    "\n",
    "    # Convert the index to datetime\n",
    "    ethereum_api_data.index = pd.to_datetime(ethereum_api_data.index)\n",
    "\n",
    "    # Rename the index to 'Date'\n",
    "    ethereum_api_data.index.name = 'Date'\n",
    "    \n",
    "    # Rename columns for easier access\n",
    "    ethereum_api_data.columns = ['Open', 'High', 'Low', 'Close', 'Volume']\n",
    "\n",
    "    # Convert columns to numeric values\n",
    "    ethereum_api_data = ethereum_api_data.apply(pd.to_numeric)\n",
    "\n",
    "    # Filter the DataFrame to include only the last 6 months of data\n",
    "    six_months_ago = datetime.now() - timedelta(days=6*30)  # approximate 6 months\n",
    "    ethereum_api_data = ethereum_api_data[ethereum_api_data.index >= six_months_ago]\n",
    "\n",
    "    # Save the DataFrame to a CSV file\n",
    "    #csv_file = f'{symbol.lower()}_{market.lower()}_last_6_months_daily.csv'\n",
    "    #ethereum_api_data.to_csv(csv_file)\n",
    "\n",
    "    # Display the DataFrame\n",
    "    print(ethereum_api_data)\n",
    "    #print(f\"Data successfully saved to {csv_file}\")\n",
    "\n",
    "# Load environment variables from .env file\n",
    "load_dotenv()\n",
    "\n",
    "# Get the API key from the environment variable\n",
    "api_key = os.getenv('AlphaVantage_API_key')\n",
    "\n",
    "# Fetch and process the cryptocurrency data\n",
    "fetch_ethereum_data(api_key,\"ETH\",\"USD\")\n"
   ]
  },
  {
   "cell_type": "code",
   "execution_count": null,
   "metadata": {},
   "outputs": [],
   "source": []
  }
 ],
 "metadata": {
  "kernelspec": {
   "display_name": "base",
   "language": "python",
   "name": "python3"
  },
  "language_info": {
   "codemirror_mode": {
    "name": "ipython",
    "version": 3
   },
   "file_extension": ".py",
   "mimetype": "text/x-python",
   "name": "python",
   "nbconvert_exporter": "python",
   "pygments_lexer": "ipython3",
   "version": "3.11.7"
  }
 },
 "nbformat": 4,
 "nbformat_minor": 2
}
