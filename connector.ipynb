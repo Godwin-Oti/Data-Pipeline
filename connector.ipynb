{
 "cells": [
  {
   "cell_type": "code",
   "execution_count": 6,
   "metadata": {},
   "outputs": [],
   "source": [
    "import requests\n",
    "import psycopg2\n",
    "from psycopg2 import sql\n",
    "import os\n",
    "from dotenv import load_dotenv\n",
    "import pandas as pd\n",
    "#from Bitcoin_api import fetch_bitcoin_data\n",
    "#from new_scrappy import get_bitcoin_news"
   ]
  },
  {
   "cell_type": "code",
   "execution_count": 18,
   "metadata": {},
   "outputs": [
    {
     "name": "stdout",
     "output_type": "stream",
     "text": [
      "Hello World!\n"
     ]
    }
   ],
   "source": [
    "print(\"Hello World!\")"
   ]
  },
  {
   "cell_type": "markdown",
   "metadata": {},
   "source": [
    "# BTC"
   ]
  },
  {
   "cell_type": "markdown",
   "metadata": {},
   "source": [
    "## Connecting to DataBase and Creating Tables"
   ]
  },
  {
   "cell_type": "code",
   "execution_count": 20,
   "metadata": {},
   "outputs": [
    {
     "name": "stderr",
     "output_type": "stream",
     "text": [
      "Python-dotenv could not parse statement starting at line 11\n"
     ]
    }
   ],
   "source": [
    "# make sure to load dotenv\n",
    "from dotenv import load_dotenv\n",
    "import os\n",
    "import psycopg2\n",
    "load_dotenv()\n",
    "\n",
    "# Database connection paramete(s\n",
    "Database_URL = os.getenv('DataBase_Url')\n",
    "\n",
    "#connect to database\n",
    "conn = psycopg2.connect(Database_URL)\n",
    "cur = conn.cursor()\n",
    "\n",
    "#create tables if they don't exist\n",
    "\n",
    "cur.execute('''\n",
    "CREATE TABLE IF NOT EXISTS test_Bitcoin_Prices_Update(\n",
    "    Date DATE PRIMARY KEY,\n",
    "    Open FLOAT,\n",
    "    High FLOAT,\n",
    "    Low FLOAT,\n",
    "    Close FLOAT,\n",
    "    Volume FLOAT\n",
    "    \n",
    ")            \n",
    "''')\n",
    "\n",
    "cur.execute('''\n",
    "CREATE TABLE IF NOT EXISTS Bitcoin_News_Update(\n",
    "    date DATE,\n",
    "    title VARCHAR(500) PRIMARY KEY\n",
    "       \n",
    ")            \n",
    "''')\n",
    "\n",
    "conn.commit()"
   ]
  },
  {
   "cell_type": "code",
   "execution_count": 7,
   "metadata": {},
   "outputs": [],
   "source": [
    "# make sure to load dotenv\n",
    "from dotenv import load_dotenv\n",
    "import os\n",
    "import psycopg2\n",
    "load_dotenv()\n",
    "\n",
    "# Database connection paramete(s\n",
    "Database_URL = os.getenv('DataBase_Url')\n",
    "\n",
    "#connect to database\n",
    "conn = psycopg2.connect(Database_URL)\n",
    "cur = conn.cursor()\n",
    "\n",
    "cur.execute('''\n",
    "CREATE TABLE IF NOT EXISTS Aws_Sentiment_Bitcoin_News(\n",
    "    date DATE,\n",
    "    title VARCHAR(500) PRIMARY KEY,\n",
    "    negative FLOAT, \n",
    "    positive FLOAT, \n",
    "    neutral  FLOAT     \n",
    "       \n",
    ")            \n",
    "''')\n",
    "\n",
    "conn.commit()"
   ]
  },
  {
   "cell_type": "code",
   "execution_count": null,
   "metadata": {},
   "outputs": [],
   "source": [
    "cur.execute(\"DR\")"
   ]
  },
  {
   "cell_type": "markdown",
   "metadata": {},
   "source": [
    "## Insertion of Bitcoin Prices_Update to Table"
   ]
  },
  {
   "cell_type": "code",
   "execution_count": 13,
   "metadata": {},
   "outputs": [],
   "source": [
    "#function to insert Bitcoin_Prices\n",
    "def insert_bitcoin_data(conn, data):\n",
    "    try:\n",
    "        cursor = conn.cursor()\n",
    "        for index, row in data.iterrows():\n",
    "            cursor.execute('''\n",
    "                INSERT INTO Bitcoin_Prices_Update(Date, Open, High, Low, Close, Volume)\n",
    "                Values(%s, %s, %s, %s, %s, %s)\n",
    "                ON CONFLICT (Date) DO NOTHING\n",
    "                ''',(index, row['1. Open'], row['2. High'], row['3. Low'], row['4. Close'], row['5. Volume']))\n",
    "        conn.commit()\n",
    "        cursor.close()\n",
    "        print(\"success\")\n",
    "    except Exception as e:\n",
    "        print(f'Error inserting Bitcoin data: {e}')\n",
    "        conn.rollback()"
   ]
  },
  {
   "cell_type": "markdown",
   "metadata": {},
   "source": [
    "## Insertion of  Bitcoin News_ Update to Table"
   ]
  },
  {
   "cell_type": "code",
   "execution_count": 21,
   "metadata": {},
   "outputs": [],
   "source": [
    "# Function to insert Bitcoin_News\n",
    "def insert_bitcoin_news(conn, df):\n",
    "    try:\n",
    "        cursor = conn.cursor()\n",
    "        for index, row in df.iterrows():\n",
    "            cursor.execute('''\n",
    "                INSERT INTO Bitcoin_News_Update (date, title)\n",
    "                VALUES (%s, %s)\n",
    "                ON CONFLICT (title) DO NOTHING\n",
    "                ''', (row['date'], row['title']))\n",
    "        conn.commit()\n",
    "        cursor.close()\n",
    "    except Exception as e:\n",
    "        print(f'Error inserting Bitcoin data: {e}')\n",
    "        conn.rollback()\n"
   ]
  },
  {
   "cell_type": "markdown",
   "metadata": {},
   "source": [
    "## Fetching and Inserting Data"
   ]
  },
  {
   "cell_type": "code",
   "execution_count": 22,
   "metadata": {},
   "outputs": [
    {
     "name": "stdout",
     "output_type": "stream",
     "text": [
      "Failed to retrieve the page 73. Status code: 404\n"
     ]
    }
   ],
   "source": [
    "#Main Function to orchestrate the data fetching and insertion\n",
    "def main():\n",
    "    # fetch Bitcoin Data\n",
    "    bitcoin_data = fetch_bitcoin_data(\"BTC\",\"USD\")\n",
    "    #Scrape Bitcoin News data\n",
    "    bitcoin_titles_df = get_bitcoin_news()\n",
    "    #connect to postgresSQL database\n",
    "    conn = psycopg2.connect(Database_URL)\n",
    "\n",
    "    if conn:\n",
    "        #Insert data into database\n",
    "        insert_bitcoin_data(conn,bitcoin_data)\n",
    "        insert_bitcoin_news(conn,bitcoin_titles_df)\n",
    "\n",
    "        #close the database connection\n",
    "        conn.close()\n",
    "    else:\n",
    "        print('Failed to connect to the database')\n",
    "\n",
    "if __name__== '__main__':\n",
    "    main()"
   ]
  },
  {
   "cell_type": "code",
   "execution_count": null,
   "metadata": {},
   "outputs": [],
   "source": []
  },
  {
   "cell_type": "code",
   "execution_count": null,
   "metadata": {},
   "outputs": [],
   "source": []
  },
  {
   "cell_type": "code",
   "execution_count": null,
   "metadata": {},
   "outputs": [],
   "source": []
  },
  {
   "cell_type": "code",
   "execution_count": null,
   "metadata": {},
   "outputs": [],
   "source": []
  },
  {
   "cell_type": "markdown",
   "metadata": {},
   "source": [
    "#### Used for dropping tables"
   ]
  },
  {
   "cell_type": "code",
   "execution_count": 19,
   "metadata": {},
   "outputs": [
    {
     "name": "stdout",
     "output_type": "stream",
     "text": [
      "Table bitcoin_news_update dropped.\n"
     ]
    }
   ],
   "source": [
    "import os\n",
    "import psycopg2\n",
    "\n",
    "def drop_tables(table_names, conn):\n",
    "    \"\"\"\n",
    "    Drops the specified tables from the PostgreSQL database.\n",
    "\n",
    "    Args:\n",
    "    table_names (list of str): List of table names to be dropped.\n",
    "    conn: The psycopg2 connection object to the PostgreSQL database.\n",
    "    \"\"\"\n",
    "    # Create a cursor object\n",
    "    cur = conn.cursor()\n",
    "\n",
    "    # Iterate over the list of table names and drop each one\n",
    "    for table_name in table_names:\n",
    "        drop_table_query = f'DROP TABLE IF EXISTS {table_name} CASCADE'\n",
    "        cur.execute(drop_table_query)\n",
    "        print(f'Table {table_name} dropped.')\n",
    "\n",
    "    # Commit the changes and close the cursor\n",
    "    conn.commit()\n",
    "    cur.close()\n",
    "\n",
    "if __name__ == \"__main__\":\n",
    "    # List of table names to be dropped\n",
    "    table_names = [\n",
    "        'bitcoin_news_update',\n",
    "       \n",
    "        \n",
    "        \n",
    "    ]\n",
    "\n",
    "    # Connect to the PostgreSQL database using the DATABASE_URL environment variable\n",
    "    DATABASE_URL = os.getenv('DATABASE_URL')\n",
    "    conn = psycopg2.connect(DATABASE_URL)\n",
    "\n",
    "    try:\n",
    "        # Call the function to drop the tables\n",
    "        drop_tables(table_names, conn)\n",
    "    finally:\n",
    "        if conn:\n",
    "            conn.close()\n"
   ]
  },
  {
   "cell_type": "code",
   "execution_count": 5,
   "metadata": {},
   "outputs": [],
   "source": [
    "DATABASE_URL = os.getenv('DATABASE_URL')\n",
    "conn = psycopg2.connect(DATABASE_URL)\n",
    "cur = conn.cursor()\n",
    "\n",
    "cur.execute(''' DELETE FROM sentiment_bitcoin_news\n",
    "WHERE title ='British-Chinese bitcoin money launderer jjlh9ailed for over 6 years' ''')\n",
    "\n",
    "\n",
    "\n",
    "# Commit the changes and close the cursor\n",
    "conn.commit()\n",
    "cur.close()\n"
   ]
  }
 ],
 "metadata": {
  "kernelspec": {
   "display_name": "Webscraping",
   "language": "python",
   "name": "python3"
  },
  "language_info": {
   "codemirror_mode": {
    "name": "ipython",
    "version": 3
   },
   "file_extension": ".py",
   "mimetype": "text/x-python",
   "name": "python",
   "nbconvert_exporter": "python",
   "pygments_lexer": "ipython3",
   "version": "3.10.14"
  }
 },
 "nbformat": 4,
 "nbformat_minor": 2
}
